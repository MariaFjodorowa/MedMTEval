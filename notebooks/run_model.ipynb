{
 "cells": [
  {
   "cell_type": "markdown",
   "metadata": {},
   "source": [
    "## Running the trained model on the test data"
   ]
  },
  {
   "cell_type": "code",
   "execution_count": 1,
   "metadata": {},
   "outputs": [],
   "source": [
    "import json\n",
    "import jsonlines\n",
    "from nltk import sent_tokenize\n",
    "from transformers import pipeline, AutoTokenizer,AutoModelForSeq2SeqLM"
   ]
  },
  {
   "cell_type": "markdown",
   "metadata": {},
   "source": [
    "Initializing model and tokenizer:"
   ]
  },
  {
   "cell_type": "code",
   "execution_count": 2,
   "metadata": {},
   "outputs": [],
   "source": [
    "config_path = 'Helsinki-NLP/opus-mt-ru-en' # this will download a model from huggingface.\n",
    "# you can use any other path of yours\n",
    "model = AutoModelForSeq2SeqLM.from_pretrained(config_path) \n",
    "tokenizer = AutoTokenizer.from_pretrained(config_path)"
   ]
  },
  {
   "cell_type": "markdown",
   "metadata": {},
   "source": [
    "Opening the test data:"
   ]
  },
  {
   "cell_type": "code",
   "execution_count": 3,
   "metadata": {},
   "outputs": [],
   "source": [
    "data = []\n",
    "\n",
    "with jsonlines.open('test.jsonl', 'r') as f:\n",
    "    for line in f:\n",
    "        data.append(line['translation']['ru'])"
   ]
  },
  {
   "cell_type": "markdown",
   "metadata": {},
   "source": [
    "Writing the preprocessing function:"
   ]
  },
  {
   "cell_type": "code",
   "execution_count": 4,
   "metadata": {},
   "outputs": [],
   "source": [
    "def get_translation(text, lang, cur_model, cur_tokenizer):\n",
    "    if lang == 'ru':\n",
    "        translator = pipeline(\"translation_en_to_ru\", model=cur_model, tokenizer=cur_tokenizer)\n",
    "    else:\n",
    "        translator = pipeline(\"translation_ru_to_en\", model=cur_model, tokenizer=cur_tokenizer)\n",
    "    text_length = len(text.split())\n",
    "    text_split = str(text).split()\n",
    "    if text_length > 100:\n",
    "        sentences = sent_tokenize(text)\n",
    "        result = []\n",
    "        for sent in sentences:\n",
    "            result.append(translator(sent)[0]['translation_text'])\n",
    "        result = ' '.join(result)\n",
    "\n",
    "    else:\n",
    "        translation = translator(text)\n",
    "        result = translation[0]['translation_text']    \n",
    "\n",
    "    return result"
   ]
  },
  {
   "cell_type": "markdown",
   "metadata": {},
   "source": [
    "Running the translation:"
   ]
  },
  {
   "cell_type": "code",
   "execution_count": null,
   "metadata": {},
   "outputs": [],
   "source": [
    "preds = []\n",
    "\n",
    "for el in data:\n",
    "    translated = get_translation(el, 'en', cur_model=model, cur_tokenizer=tokenizer)\n",
    "    preds.append({\"translation\": {\"ru\": el, \"en\": translated}})\n",
    "    print(translated)"
   ]
  },
  {
   "cell_type": "markdown",
   "metadata": {},
   "source": [
    "Saving the predictions into the desired format:"
   ]
  },
  {
   "cell_type": "code",
   "execution_count": null,
   "metadata": {},
   "outputs": [],
   "source": [
    "with jsonlines.open('preds.jsonl', mode='w') as f:\n",
    "    for line in preds:\n",
    "        f.write(line)"
   ]
  }
 ],
 "metadata": {
  "kernelspec": {
   "display_name": "med_ner",
   "language": "python",
   "name": "med_ner"
  },
  "language_info": {
   "codemirror_mode": {
    "name": "ipython",
    "version": 3
   },
   "file_extension": ".py",
   "mimetype": "text/x-python",
   "name": "python",
   "nbconvert_exporter": "python",
   "pygments_lexer": "ipython3",
   "version": "3.8.10"
  }
 },
 "nbformat": 4,
 "nbformat_minor": 5
}
