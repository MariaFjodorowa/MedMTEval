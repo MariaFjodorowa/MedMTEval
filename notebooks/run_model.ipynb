{
 "cells": [
  {
   "cell_type": "markdown",
   "id": "573f3666",
   "metadata": {},
   "source": [
    "## Running the trained model on the test data"
   ]
  },
  {
   "cell_type": "code",
   "execution_count": null,
   "id": "8051889b",
   "metadata": {},
   "outputs": [],
   "source": [
    "import json\n",
    "from transformers import pipeline, AutoTokenizer,AutoModelForSeq2SeqLM"
   ]
  },
  {
   "cell_type": "markdown",
   "id": "3f3ac320",
   "metadata": {},
   "source": [
    "Initializing model and tokenizer:"
   ]
  },
  {
   "cell_type": "code",
   "execution_count": null,
   "id": "8bd53e3b",
   "metadata": {},
   "outputs": [],
   "source": [
    "model = AutoModelForSeq2SeqLM.from_pretrained('contest_train') #or any other path of yours\n",
    "tokenizer = AutoTokenizer.from_pretrained('contest_train')"
   ]
  },
  {
   "cell_type": "markdown",
   "id": "1358f5cd",
   "metadata": {},
   "source": [
    "Opening the test data:"
   ]
  },
  {
   "cell_type": "code",
   "execution_count": null,
   "id": "1d9a6da8",
   "metadata": {},
   "outputs": [],
   "source": [
    "with open('test.txt', 'r') as f:\n",
    "    data = f.readlines()"
   ]
  },
  {
   "cell_type": "code",
   "execution_count": null,
   "id": "9fb813e4",
   "metadata": {},
   "outputs": [],
   "source": [
    "data = [x.strip('\\n') for x in data]"
   ]
  },
  {
   "cell_type": "markdown",
   "id": "a6f0c92c",
   "metadata": {},
   "source": [
    "Writing the preprocessing function:"
   ]
  },
  {
   "cell_type": "code",
   "execution_count": null,
   "id": "e3edb7b3",
   "metadata": {},
   "outputs": [],
   "source": [
    "def get_translation(text, lang, cur_model, cur_tokenizer):\n",
    "    if lang == 'ru':\n",
    "        translator = pipeline(\"translation_en_to_ru\", model=cur_model, tokenizer=cur_tokenizer)\n",
    "    else:\n",
    "        translator = pipeline(\"translation_ru_to_en\", model=cur_model, tokenizer=cur_tokenizer)\n",
    "    text_length = len(text.split())\n",
    "    text_split = str(text).split()\n",
    "    if text_length > 100:\n",
    "        sentences = sent_tokenize(text)\n",
    "        result = []\n",
    "        for sent in sentences:\n",
    "            result.append(translator(sent)[0]['translation_text'])\n",
    "        result = ' '.join(result)\n",
    "\n",
    "    else:\n",
    "        translation = translator(text)\n",
    "        result = translation[0]['translation_text']    \n",
    "\n",
    "    return result"
   ]
  },
  {
   "cell_type": "markdown",
   "id": "a6752353",
   "metadata": {},
   "source": [
    "Running the translation:"
   ]
  },
  {
   "cell_type": "code",
   "execution_count": null,
   "id": "3cc2eea8",
   "metadata": {},
   "outputs": [],
   "source": [
    "preds = []\n",
    "\n",
    "for el in data:\n",
    "    translated = get_translation(el, 'en', cur_model=model, cur_tokenizer=tokenizer)\n",
    "    preds.append({\"translation\": {\"ru\": el, \"en\": translated}})"
   ]
  },
  {
   "cell_type": "markdown",
   "id": "aa8fdfb3",
   "metadata": {},
   "source": [
    "Saving the predictions into the desired format:"
   ]
  },
  {
   "cell_type": "code",
   "execution_count": null,
   "id": "de7e034d",
   "metadata": {},
   "outputs": [],
   "source": [
    "with open('preds.json', 'w') as f:\n",
    "      json.dumps(preds)"
   ]
  }
 ],
 "metadata": {
  "kernelspec": {
   "display_name": "Python 3 (ipykernel)",
   "language": "python",
   "name": "python3"
  },
  "language_info": {
   "codemirror_mode": {
    "name": "ipython",
    "version": 3
   },
   "file_extension": ".py",
   "mimetype": "text/x-python",
   "name": "python",
   "nbconvert_exporter": "python",
   "pygments_lexer": "ipython3",
   "version": "3.8.10"
  }
 },
 "nbformat": 4,
 "nbformat_minor": 5
}
