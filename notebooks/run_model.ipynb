{
 "cells": [
  {
   "cell_type": "markdown",
   "id": "48808886",
   "metadata": {},
   "source": [
    "## Running the trained model on the test data"
   ]
  },
  {
   "cell_type": "code",
   "execution_count": null,
   "id": "fb6d6b55",
   "metadata": {},
   "outputs": [],
   "source": [
    "import json\n",
    "import jsonlines\n",
    "from nltk import sent_tokenize\n",
    "from transformers import pipeline, AutoTokenizer,AutoModelForSeq2SeqLM"
   ]
  },
  {
   "cell_type": "markdown",
   "id": "1823d2e8",
   "metadata": {},
   "source": [
    "Initializing model and tokenizer:"
   ]
  },
  {
   "cell_type": "code",
   "execution_count": null,
   "id": "96ed8596",
   "metadata": {},
   "outputs": [],
   "source": [
    "model = AutoModelForSeq2SeqLM.from_pretrained('contest_train') #or any other path of yours\n",
    "tokenizer = AutoTokenizer.from_pretrained('contest_train')"
   ]
  },
  {
   "cell_type": "markdown",
   "id": "eb83de74",
   "metadata": {},
   "source": [
    "Opening the test data:"
   ]
  },
  {
   "cell_type": "code",
   "execution_count": null,
   "id": "9a23b3fa",
   "metadata": {},
   "outputs": [],
   "source": [
    "data = []\n",
    "\n",
    "with jsonlines.open('test.jsonl', 'r') as f:\n",
    "    for line in f:\n",
    "        data.append(line['translation']['ru'])"
   ]
  },
  {
   "cell_type": "code",
   "execution_count": null,
   "id": "4b305ed5",
   "metadata": {},
   "outputs": [],
   "source": [
    "data"
   ]
  },
  {
   "cell_type": "markdown",
   "id": "01002edb",
   "metadata": {},
   "source": [
    "Writing the preprocessing function:"
   ]
  },
  {
   "cell_type": "code",
   "execution_count": null,
   "id": "e2ff5c1c",
   "metadata": {},
   "outputs": [],
   "source": [
    "def get_translation(text, lang, cur_model, cur_tokenizer):\n",
    "    if lang == 'ru':\n",
    "        translator = pipeline(\"translation_en_to_ru\", model=cur_model, tokenizer=cur_tokenizer)\n",
    "    else:\n",
    "        translator = pipeline(\"translation_ru_to_en\", model=cur_model, tokenizer=cur_tokenizer)\n",
    "    text_length = len(text.split())\n",
    "    text_split = str(text).split()\n",
    "    if text_length > 100:\n",
    "        sentences = sent_tokenize(text)\n",
    "        result = []\n",
    "        for sent in sentences:\n",
    "            result.append(translator(sent)[0]['translation_text'])\n",
    "        result = ' '.join(result)\n",
    "\n",
    "    else:\n",
    "        translation = translator(text)\n",
    "        result = translation[0]['translation_text']    \n",
    "\n",
    "    return result"
   ]
  },
  {
   "cell_type": "markdown",
   "id": "0d72dca8",
   "metadata": {},
   "source": [
    "Running the translation:"
   ]
  },
  {
   "cell_type": "code",
   "execution_count": null,
   "id": "8d633147",
   "metadata": {},
   "outputs": [],
   "source": [
    "preds = []\n",
    "\n",
    "for el in data:\n",
    "    translated = get_translation(el, 'en', cur_model=model, cur_tokenizer=tokenizer)\n",
    "    preds.append({\"translation\": {\"ru\": el, \"en\": translated}})"
   ]
  },
  {
   "cell_type": "markdown",
   "id": "ee50629b",
   "metadata": {},
   "source": [
    "Saving the predictions into the desired format:"
   ]
  },
  {
   "cell_type": "code",
   "execution_count": null,
   "id": "c003059d",
   "metadata": {},
   "outputs": [],
   "source": [
    "with open('preds.json', 'w') as f:\n",
    "      json.dumps(preds)"
   ]
  }
 ],
 "metadata": {
  "kernelspec": {
   "display_name": "Python 3 (ipykernel)",
   "language": "python",
   "name": "python3"
  },
  "language_info": {
   "codemirror_mode": {
    "name": "ipython",
    "version": 3
   },
   "file_extension": ".py",
   "mimetype": "text/x-python",
   "name": "python",
   "nbconvert_exporter": "python",
   "pygments_lexer": "ipython3",
   "version": "3.8.10"
  }
 },
 "nbformat": 4,
 "nbformat_minor": 5
}
