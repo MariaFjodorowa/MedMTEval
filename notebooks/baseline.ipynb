{
 "cells": [
  {
   "cell_type": "markdown",
   "id": "ef2f7c41",
   "metadata": {},
   "source": [
    "## Data preparation"
   ]
  },
  {
   "cell_type": "code",
   "execution_count": 1,
   "id": "8411791c",
   "metadata": {},
   "outputs": [],
   "source": [
    "import os\n",
    "import jsonlines\n",
    "import json\n",
    "import pandas as pd"
   ]
  },
  {
   "cell_type": "code",
   "execution_count": 66,
   "id": "cb92295f",
   "metadata": {},
   "outputs": [],
   "source": [
    "def test_data_add(path_en, path_ru, path_alignment, path_mapping):\n",
    "    \n",
    "    with open(path_en, 'r') as f:\n",
    "        en = f.readlines()\n",
    "        \n",
    "    en = [x.split('\\t') for x in en]\n",
    "    \n",
    "    with open(path_ru, 'r') as f:\n",
    "        ru = f.readlines()\n",
    "        \n",
    "    ru = [x.split('\\t') for x in ru]\n",
    "    \n",
    "    with open(path_mapping, 'r') as f:\n",
    "        mapping = f.readlines()\n",
    "        \n",
    "    mapping = [x.strip('\\n').split('\\t') for x in mapping]\n",
    "    mapping_dict = {}\n",
    "    \n",
    "    for el in mapping:\n",
    "        mapping_dict[el[0]] = el[1]\n",
    "        \n",
    "    with open(path_alignment, 'r') as f:\n",
    "        align = f.readlines()\n",
    "        \n",
    "    align = [x.strip('\\n').split('\\t') for x in align]\n",
    "    align = [[mapping_dict[x[1]], x[2], x[3]] for x in align]\n",
    "    unique_doc_ids = {}\n",
    "\n",
    "    for el in en:\n",
    "        unique_doc_ids[el[0]] = {}\n",
    "    \n",
    "    for el in en:\n",
    "        doc_id = el[0]\n",
    "        unique_doc_ids[doc_id][el[1]] = el[2].strip('\\n')\n",
    "    \n",
    "    unique_doc_ids_ru = {}\n",
    "\n",
    "    for el in ru:\n",
    "        unique_doc_ids_ru[el[0]] = {}\n",
    "    \n",
    "    for el in ru:\n",
    "        doc_id = el[0]\n",
    "        unique_doc_ids_ru[doc_id][el[1]] = el[2].strip('\\n')\n",
    "\n",
    "    \n",
    "    return align, unique_doc_ids, unique_doc_ids_ru"
   ]
  },
  {
   "cell_type": "markdown",
   "id": "d6cd83df",
   "metadata": {},
   "source": [
    "Adding wmt20 train data:"
   ]
  },
  {
   "cell_type": "code",
   "execution_count": 2,
   "id": "6858bea3",
   "metadata": {},
   "outputs": [],
   "source": [
    "path = 'ru-en_20/ru-en-release'"
   ]
  },
  {
   "cell_type": "code",
   "execution_count": 3,
   "id": "2a09e86e",
   "metadata": {},
   "outputs": [],
   "source": [
    "files_en = []\n",
    "files_ru = []\n",
    "\n",
    "for el in os.listdir(path):\n",
    "    if el[-6] == 'e':\n",
    "        files_en.append(el)\n",
    "    else:\n",
    "        files_ru.append(el)"
   ]
  },
  {
   "cell_type": "code",
   "execution_count": 4,
   "id": "1b200823",
   "metadata": {},
   "outputs": [],
   "source": [
    "files_en = sorted(files_en)\n",
    "files_ru = sorted(files_ru)"
   ]
  },
  {
   "cell_type": "code",
   "execution_count": 78,
   "id": "a616deb8",
   "metadata": {},
   "outputs": [],
   "source": [
    "results = []\n",
    "\n",
    "for i, j in zip(files_en, files_ru):\n",
    "    with open(path + '/' + i, 'r') as f:\n",
    "        en = f.read()\n",
    "    with open(path + '/' + j, 'r') as f:\n",
    "        ru = f.read()\n",
    "    results.append({\"translation\": {\"ru\": ru,\n",
    "                                    \"en\": en\n",
    "                                    }})"
   ]
  },
  {
   "cell_type": "markdown",
   "id": "3a72d9f2",
   "metadata": {},
   "source": [
    "Adding contest's train data:"
   ]
  },
  {
   "cell_type": "code",
   "execution_count": 6,
   "id": "cbfe1556",
   "metadata": {},
   "outputs": [],
   "source": [
    "with open('train_test/train.jsonl', 'r') as f:\n",
    "    train_data = f.readlines()"
   ]
  },
  {
   "cell_type": "code",
   "execution_count": 7,
   "id": "55059075",
   "metadata": {},
   "outputs": [],
   "source": [
    "for el in train_data:\n",
    "    results.append(el.strip('\\n'))"
   ]
  },
  {
   "cell_type": "markdown",
   "id": "994d6aa8",
   "metadata": {},
   "source": [
    "Adding wmt20 test data:"
   ]
  },
  {
   "cell_type": "code",
   "execution_count": 67,
   "id": "4d6a5fc1",
   "metadata": {},
   "outputs": [],
   "source": [
    "align_20, unique_doc_ids_20, unique_doc_ids_ru_20 = test_data_add(\n",
    "                            'wmt20test/medline_ru2en_en.txt',\n",
    "                            'wmt20test/medline_ru2en_ru.txt',\n",
    "                            'wmt20test/ru-en_align_validation.tsv',\n",
    "                            'wmt20test/ruen_mapping.txt'\n",
    "                           )"
   ]
  },
  {
   "cell_type": "code",
   "execution_count": 79,
   "id": "6eb2fea3",
   "metadata": {},
   "outputs": [],
   "source": [
    "res_20 = []\n",
    "\n",
    "for el in align_20:\n",
    "    if 'omitted' not in el:\n",
    "        try:\n",
    "            doc_id = el[0]\n",
    "            sent_en = el[2]\n",
    "            sent_ru = el[1]\n",
    "            en = unique_doc_ids_20[doc_id][sent_en]\n",
    "            ru = unique_doc_ids_ru_20[doc_id][sent_ru]\n",
    "            res_20.append({\"translation\": {\"ru\": ru, \"en\": en}})\n",
    "        except KeyError:\n",
    "            pass"
   ]
  },
  {
   "cell_type": "code",
   "execution_count": 81,
   "id": "3185fbf5",
   "metadata": {},
   "outputs": [],
   "source": [
    "for el in res_20:\n",
    "    results.append(el)"
   ]
  },
  {
   "cell_type": "markdown",
   "id": "e08eb9d7",
   "metadata": {},
   "source": [
    "Adding wmt21 test data:"
   ]
  },
  {
   "cell_type": "code",
   "execution_count": 82,
   "id": "59fb69d8",
   "metadata": {},
   "outputs": [],
   "source": [
    "align_21, unique_doc_ids_21, unique_doc_ids_ru_21 = test_data_add(\n",
    "                            'wmt21test/medline_ru2en_en.txt',\n",
    "                            'wmt21test/medline_ru2en_ru.txt',\n",
    "                            'wmt21test/ru-en_align_validation.tsv',\n",
    "                            'wmt21test/ruen_mapping.txt'\n",
    "                           )"
   ]
  },
  {
   "cell_type": "code",
   "execution_count": 83,
   "id": "59e74faa",
   "metadata": {},
   "outputs": [],
   "source": [
    "res_21 = []\n",
    "\n",
    "for el in align_21:\n",
    "    if 'omitted' not in el:\n",
    "        try:\n",
    "            doc_id = el[0]\n",
    "            sent_en = el[1]\n",
    "            sent_ru = el[2]\n",
    "            en = unique_doc_ids_21[doc_id][sent_en]\n",
    "            ru = unique_doc_ids_ru_21[doc_id][sent_ru]\n",
    "            res_21.append({\"translation\": {\"ru\": ru, \"en\": en}})\n",
    "        except KeyError:\n",
    "            pass"
   ]
  },
  {
   "cell_type": "code",
   "execution_count": 85,
   "id": "85a1768d",
   "metadata": {},
   "outputs": [],
   "source": [
    "for el in res_21:\n",
    "    results.append(el)"
   ]
  },
  {
   "cell_type": "markdown",
   "id": "fe2f8f16",
   "metadata": {},
   "source": [
    "Combining and saving to a single jsonlines file:"
   ]
  },
  {
   "cell_type": "code",
   "execution_count": 86,
   "id": "64a9d18b",
   "metadata": {},
   "outputs": [],
   "source": [
    "with jsonlines.open('train.jsonl', mode='w') as writer:\n",
    "    for annotation in results:\n",
    "        writer.write(annotation)"
   ]
  },
  {
   "cell_type": "markdown",
   "id": "4a73174c",
   "metadata": {},
   "source": [
    "## Training"
   ]
  },
  {
   "cell_type": "code",
   "execution_count": null,
   "id": "66be9913",
   "metadata": {},
   "outputs": [],
   "source": [
    "!git clone https://github.com/huggingface/transformers.git"
   ]
  },
  {
   "cell_type": "code",
   "execution_count": null,
   "id": "224959de",
   "metadata": {},
   "outputs": [],
   "source": [
    "%cd /content/transformers/\n",
    "!pip install . -q"
   ]
  },
  {
   "cell_type": "code",
   "execution_count": null,
   "id": "76003428",
   "metadata": {},
   "outputs": [],
   "source": [
    "!pip install -r /content/transformers/examples/pytorch/translation/requirements.txt -q"
   ]
  },
  {
   "cell_type": "code",
   "execution_count": null,
   "id": "4560cb85",
   "metadata": {},
   "outputs": [],
   "source": [
    "!python /content/transformers/examples/pytorch/translation/run_translation.py \\\n",
    "    --model_name_or_path 'Helsinki-NLP/opus-mt-ru-en' \\\n",
    "    --do_train \\\n",
    "    --do_eval \\\n",
    "    --save_strategy steps \\\n",
    "    --source_lang ru \\\n",
    "    --num_train_epochs 10 \\\n",
    "    --target_lang en \\\n",
    "    --max_source_length 512 \\\n",
    "    --max_target_length 512 \\\n",
    "    --val_max_target_length 512 \\\n",
    "    --train_file '/content/drive/MyDrive/data_contest/train.json' \\\n",
    "    --validation_file '/content/drive/MyDrive/data_contest/val.json' \\\n",
    "    --output_dir '/content/drive/MyDrive/contest_train' \\\n",
    "    --per_device_train_batch_size=2 \\\n",
    "    --per_device_eval_batch_size=4 \\\n",
    "    --overwrite_output_dir \\\n",
    "    --pad_to_max_length False \\\n",
    "    --save_steps 1000 \\\n",
    "    --evaluation_strategy steps \\\n",
    "    --logging_steps 5000 \\\n",
    "    --predict_with_generate"
   ]
  }
 ],
 "metadata": {
  "kernelspec": {
   "display_name": "Python 3 (ipykernel)",
   "language": "python",
   "name": "python3"
  },
  "language_info": {
   "codemirror_mode": {
    "name": "ipython",
    "version": 3
   },
   "file_extension": ".py",
   "mimetype": "text/x-python",
   "name": "python",
   "nbconvert_exporter": "python",
   "pygments_lexer": "ipython3",
   "version": "3.8.10"
  }
 },
 "nbformat": 4,
 "nbformat_minor": 5
}
