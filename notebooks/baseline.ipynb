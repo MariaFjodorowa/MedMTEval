{
 "cells": [
  {
   "cell_type": "markdown",
   "id": "55d58152",
   "metadata": {},
   "source": [
    "## Data preparation"
   ]
  },
  {
   "cell_type": "code",
   "execution_count": 1,
   "id": "3d0f06e8",
   "metadata": {},
   "outputs": [],
   "source": [
    "import os\n",
    "import jsonlines\n",
    "import json\n",
    "import pandas as pd"
   ]
  },
  {
   "cell_type": "code",
   "execution_count": 2,
   "id": "2259af57",
   "metadata": {},
   "outputs": [],
   "source": [
    "path = 'ru-en_20/ru-en-release'"
   ]
  },
  {
   "cell_type": "code",
   "execution_count": 3,
   "id": "ff61f9d3",
   "metadata": {},
   "outputs": [],
   "source": [
    "files_en = []\n",
    "files_ru = []\n",
    "\n",
    "for el in os.listdir(path):\n",
    "    if el[-6] == 'e':\n",
    "        files_en.append(el)\n",
    "    else:\n",
    "        files_ru.append(el)"
   ]
  },
  {
   "cell_type": "code",
   "execution_count": 4,
   "id": "9c6405ec",
   "metadata": {},
   "outputs": [],
   "source": [
    "files_en = sorted(files_en)\n",
    "files_ru = sorted(files_ru)"
   ]
  },
  {
   "cell_type": "code",
   "execution_count": 5,
   "id": "a80b56bb",
   "metadata": {},
   "outputs": [],
   "source": [
    "results = []\n",
    "\n",
    "for i, j in zip(files_en, files_ru):\n",
    "    with open(path + '/' + i, 'r') as f:\n",
    "        en = f.read()\n",
    "    with open(path + '/' + j, 'r') as f:\n",
    "        ru = f.read()\n",
    "    results.append({\"translation\": {\"ru\": ru,\n",
    "                                    \"en\": en\n",
    "                                    }})"
   ]
  },
  {
   "cell_type": "code",
   "execution_count": 6,
   "id": "339b3878",
   "metadata": {},
   "outputs": [],
   "source": [
    "with open('train_test/train.jsonl', 'r') as f:\n",
    "    train_data = f.readlines()"
   ]
  },
  {
   "cell_type": "code",
   "execution_count": 7,
   "id": "3251028e",
   "metadata": {},
   "outputs": [],
   "source": [
    "for el in train_data:\n",
    "    results.append(el.strip('\\n'))"
   ]
  },
  {
   "cell_type": "code",
   "execution_count": 11,
   "id": "07daf2c8",
   "metadata": {},
   "outputs": [],
   "source": [
    "with open('wmt20test/medline_ru2en_en.txt', 'r') as f:\n",
    "    en_wmt_20 = f.readlines()"
   ]
  },
  {
   "cell_type": "code",
   "execution_count": 12,
   "id": "caff1ae4",
   "metadata": {},
   "outputs": [],
   "source": [
    "en_wmt_20 = [x.split('\\t') for x in en_wmt_20]"
   ]
  },
  {
   "cell_type": "code",
   "execution_count": 13,
   "id": "27af0637",
   "metadata": {},
   "outputs": [],
   "source": [
    "with open('wmt20test/medline_ru2en_ru.txt', 'r') as f:\n",
    "    ru_wmt_20 = f.readlines()"
   ]
  },
  {
   "cell_type": "code",
   "execution_count": 14,
   "id": "52f39d4f",
   "metadata": {},
   "outputs": [],
   "source": [
    "ru_wmt_20 = [x.split('\\t') for x in ru_wmt_20]"
   ]
  },
  {
   "cell_type": "code",
   "execution_count": 15,
   "id": "3d9ca3ae",
   "metadata": {},
   "outputs": [],
   "source": [
    "alignment = pd.read_csv('wmt20test/ru-en_align_validation.tsv', sep='\\t')"
   ]
  },
  {
   "cell_type": "code",
   "execution_count": 22,
   "id": "d79eb61f",
   "metadata": {},
   "outputs": [],
   "source": [
    "with open('wmt20test/ruen_mapping.txt', 'r') as f:\n",
    "    mapping = f.readlines()"
   ]
  },
  {
   "cell_type": "code",
   "execution_count": 23,
   "id": "a0666e24",
   "metadata": {},
   "outputs": [],
   "source": [
    "mapping = [x.strip('\\n').split('\\t') for x in mapping]"
   ]
  },
  {
   "cell_type": "code",
   "execution_count": 24,
   "id": "97d46ed9",
   "metadata": {},
   "outputs": [],
   "source": [
    "mapping_dict = {}\n",
    "\n",
    "for el in mapping:\n",
    "    mapping_dict[el[0]] = el[1]"
   ]
  },
  {
   "cell_type": "code",
   "execution_count": 25,
   "id": "a2ff45e3",
   "metadata": {},
   "outputs": [],
   "source": [
    "align = [[mapping_dict[x[1]], x[2], x[3]] for x in align]"
   ]
  },
  {
   "cell_type": "code",
   "execution_count": 26,
   "id": "0221dc13",
   "metadata": {},
   "outputs": [],
   "source": [
    "unique_doc_ids = {}\n",
    "\n",
    "for el in en_wmt_20:\n",
    "    unique_doc_ids[el[0]] = {}"
   ]
  },
  {
   "cell_type": "code",
   "execution_count": 27,
   "id": "30c69acf",
   "metadata": {},
   "outputs": [],
   "source": [
    "for el in en_wmt_20:\n",
    "    doc_id = el[0]\n",
    "    unique_doc_ids[doc_id][el[1]] = el[2].strip('\\n')"
   ]
  },
  {
   "cell_type": "code",
   "execution_count": 28,
   "id": "0a8702eb",
   "metadata": {},
   "outputs": [],
   "source": [
    "unique_doc_ids_ru = {}\n",
    "\n",
    "for el in ru_wmt_20:\n",
    "    unique_doc_ids_ru[el[0]] = {}"
   ]
  },
  {
   "cell_type": "code",
   "execution_count": 29,
   "id": "dc932bf8",
   "metadata": {},
   "outputs": [],
   "source": [
    "for el in ru_wmt_20:\n",
    "    doc_id = el[0]\n",
    "    unique_doc_ids_ru[doc_id][el[1]] = el[2].strip('\\n')"
   ]
  },
  {
   "cell_type": "code",
   "execution_count": 33,
   "id": "ca53dd78",
   "metadata": {},
   "outputs": [],
   "source": [
    "res_wmt2020 = []\n",
    "\n",
    "for el in align:\n",
    "    if 'omitted' not in el:\n",
    "        try:\n",
    "            doc_id = el[0]\n",
    "            sent_en = el[2]\n",
    "            sent_ru = el[1]\n",
    "            en = unique_doc_ids[doc_id][sent_en]\n",
    "            ru = unique_doc_ids_ru[doc_id][sent_ru]\n",
    "            res_wmt2020.append({\"translation\": {\"ru\": ru, \"en\": en}})\n",
    "        except KeyError:\n",
    "            pass"
   ]
  },
  {
   "cell_type": "code",
   "execution_count": 34,
   "id": "efc0184d",
   "metadata": {},
   "outputs": [],
   "source": [
    "for el in res_wmt2020:\n",
    "    results.append(el)"
   ]
  },
  {
   "cell_type": "code",
   "execution_count": 36,
   "id": "a2d75365",
   "metadata": {},
   "outputs": [],
   "source": [
    "with open('wmt21test/medline_ru2en_en.txt', 'r') as f:\n",
    "    en_wmt_21 = f.readlines()"
   ]
  },
  {
   "cell_type": "code",
   "execution_count": 37,
   "id": "cc74368b",
   "metadata": {},
   "outputs": [],
   "source": [
    "en_wmt_21 = [x.split('\\t') for x in en_wmt_21]"
   ]
  },
  {
   "cell_type": "code",
   "execution_count": 38,
   "id": "ac272cc7",
   "metadata": {},
   "outputs": [],
   "source": [
    "with open('wmt21test/medline_ru2en_ru.txt', 'r') as f:\n",
    "    ru_wmt_21 = f.readlines()"
   ]
  },
  {
   "cell_type": "code",
   "execution_count": 39,
   "id": "16168e89",
   "metadata": {},
   "outputs": [],
   "source": [
    "ru_wmt_21 = [x.split('\\t') for x in ru_wmt_21]"
   ]
  },
  {
   "cell_type": "code",
   "execution_count": 40,
   "id": "1fa3d02e",
   "metadata": {},
   "outputs": [],
   "source": [
    "ru_wmt_21 = [[x[0], x[1], x[2].strip('\\n')] for x in ru_wmt_21]"
   ]
  },
  {
   "cell_type": "code",
   "execution_count": 42,
   "id": "173ce152",
   "metadata": {},
   "outputs": [],
   "source": [
    "with open('wmt21test/ruen_mapping.txt', 'r') as f:\n",
    "    mapping = f.readlines()"
   ]
  },
  {
   "cell_type": "code",
   "execution_count": 43,
   "id": "97cd9216",
   "metadata": {},
   "outputs": [],
   "source": [
    "mapping = [x.strip('\\n').split('\\t') for x in mapping]"
   ]
  },
  {
   "cell_type": "code",
   "execution_count": 44,
   "id": "1030f70b",
   "metadata": {},
   "outputs": [],
   "source": [
    "mapping_dict = {}\n",
    "\n",
    "for el in mapping:\n",
    "    mapping_dict[el[0]] = el[1]"
   ]
  },
  {
   "cell_type": "code",
   "execution_count": 41,
   "id": "c059fec6",
   "metadata": {},
   "outputs": [],
   "source": [
    "with open('wmt21test/ru-en_align_validation.tsv', 'r') as f:\n",
    "    align = f.readlines()"
   ]
  },
  {
   "cell_type": "code",
   "execution_count": 45,
   "id": "a2beda9d",
   "metadata": {},
   "outputs": [],
   "source": [
    "align = [x.strip('\\n').split('\\t') for x in align]\n",
    "align = [[mapping_dict[x[1]], x[2], x[3]] for x in align]"
   ]
  },
  {
   "cell_type": "code",
   "execution_count": 46,
   "id": "474675f4",
   "metadata": {},
   "outputs": [],
   "source": [
    "unique_doc_ids = {}\n",
    "\n",
    "for el in en_wmt_21:\n",
    "    unique_doc_ids[el[0]] = {}"
   ]
  },
  {
   "cell_type": "code",
   "execution_count": 47,
   "id": "f35844c2",
   "metadata": {},
   "outputs": [],
   "source": [
    "for el in en_wmt_21:\n",
    "    doc_id = el[0]\n",
    "    unique_doc_ids[doc_id][el[1]] = el[2].strip('\\n')"
   ]
  },
  {
   "cell_type": "code",
   "execution_count": 48,
   "id": "8a9c4a8b",
   "metadata": {},
   "outputs": [],
   "source": [
    "unique_doc_ids_ru = {}\n",
    "\n",
    "for el in ru_wmt_21:\n",
    "    unique_doc_ids_ru[el[0]] = {}"
   ]
  },
  {
   "cell_type": "code",
   "execution_count": 49,
   "id": "c47ded4b",
   "metadata": {},
   "outputs": [],
   "source": [
    "for el in ru_wmt_21:\n",
    "    doc_id = el[0]\n",
    "    unique_doc_ids_ru[doc_id][el[1]] = el[2].strip('\\n')"
   ]
  },
  {
   "cell_type": "code",
   "execution_count": 51,
   "id": "5139499e",
   "metadata": {},
   "outputs": [],
   "source": [
    "res_wmt2021 = []\n",
    "\n",
    "for el in align:\n",
    "    if 'omitted' not in el:\n",
    "        try:\n",
    "            doc_id = el[0]\n",
    "            sent_en = el[1]\n",
    "            sent_ru = el[2]\n",
    "            en = unique_doc_ids[doc_id][sent_en]\n",
    "            ru = unique_doc_ids_ru[doc_id][sent_ru]\n",
    "            res_wmt2021.append({\"translation\": {\"ru\": ru, \"en\": en}})\n",
    "        except KeyError:\n",
    "            pass"
   ]
  },
  {
   "cell_type": "code",
   "execution_count": 52,
   "id": "5f5c56f7",
   "metadata": {},
   "outputs": [],
   "source": [
    "for el in res_wmt2021:\n",
    "    results.append(el)"
   ]
  },
  {
   "cell_type": "code",
   "execution_count": 53,
   "id": "7d21db0e",
   "metadata": {},
   "outputs": [],
   "source": [
    "with jsonlines.open('train.jsonl', mode='w') as writer:\n",
    "    for annotation in results:\n",
    "        writer.write(annotation)"
   ]
  },
  {
   "cell_type": "markdown",
   "id": "fd83e938",
   "metadata": {},
   "source": [
    "## Training"
   ]
  },
  {
   "cell_type": "code",
   "execution_count": null,
   "id": "19015915",
   "metadata": {},
   "outputs": [],
   "source": [
    "!git clone https://github.com/huggingface/transformers.git"
   ]
  },
  {
   "cell_type": "code",
   "execution_count": null,
   "id": "c468e7a5",
   "metadata": {},
   "outputs": [],
   "source": [
    "%cd /content/transformers/\n",
    "!pip install . -q"
   ]
  },
  {
   "cell_type": "code",
   "execution_count": null,
   "id": "9375b5a0",
   "metadata": {},
   "outputs": [],
   "source": [
    "!pip install -r /content/transformers/examples/pytorch/translation/requirements.txt -q"
   ]
  },
  {
   "cell_type": "code",
   "execution_count": null,
   "id": "0bf7a384",
   "metadata": {},
   "outputs": [],
   "source": [
    "!python /content/transformers/examples/pytorch/translation/run_translation.py \\\n",
    "    --model_name_or_path 'Helsinki-NLP/opus-mt-ru-en' \\\n",
    "    --do_train \\\n",
    "    --do_eval \\\n",
    "    --save_strategy steps \\\n",
    "    --source_lang ru \\\n",
    "    --num_train_epochs 10 \\\n",
    "    --target_lang en \\\n",
    "    --max_source_length 512 \\\n",
    "    --max_target_length 512 \\\n",
    "    --val_max_target_length 512 \\\n",
    "    --train_file '/content/drive/MyDrive/data_contest/train.json' \\\n",
    "    --validation_file '/content/drive/MyDrive/data_contest/val.json' \\\n",
    "    --output_dir '/content/drive/MyDrive/contest_train' \\\n",
    "    --per_device_train_batch_size=2 \\\n",
    "    --per_device_eval_batch_size=4 \\\n",
    "    --overwrite_output_dir \\\n",
    "    --pad_to_max_length False \\\n",
    "    --save_steps 1000 \\\n",
    "    --evaluation_strategy steps \\\n",
    "    --logging_steps 5000 \\\n",
    "    --predict_with_generate"
   ]
  }
 ],
 "metadata": {
  "kernelspec": {
   "display_name": "Python 3 (ipykernel)",
   "language": "python",
   "name": "python3"
  },
  "language_info": {
   "codemirror_mode": {
    "name": "ipython",
    "version": 3
   },
   "file_extension": ".py",
   "mimetype": "text/x-python",
   "name": "python",
   "nbconvert_exporter": "python",
   "pygments_lexer": "ipython3",
   "version": "3.8.10"
  }
 },
 "nbformat": 4,
 "nbformat_minor": 5
}
